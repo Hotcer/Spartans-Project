version https://git-lfs.github.com/spec/v1
oid sha256:3bc7df5a61b16b3492df606bf6e58f39a2607fe1e3ef7fce7bcb8a8651c52f8d
size 29152499
