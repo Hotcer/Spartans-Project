version https://git-lfs.github.com/spec/v1
oid sha256:588c9aa886548afca31bc076287fd8214fa85f249da4fd2f479d43c3a15b54a8
size 9899335
